{
 "cells": [
  {
   "cell_type": "markdown",
   "metadata": {
    "slideshow": {
     "slide_type": "-"
    }
   },
   "source": [
    "# Network Analysis in Python"
   ]
  },
  {
   "cell_type": "markdown",
   "metadata": {},
   "source": [
    "**NetworkX**: Python package for the creation, manipulation, and study of the structure, dynamics, and functions of complex networks.\n",
    "\n",
    "Installation: \n",
    "`$ pip install networkx`"
   ]
  },
  {
   "cell_type": "code",
   "execution_count": null,
   "metadata": {
    "slideshow": {
     "slide_type": "-"
    }
   },
   "outputs": [],
   "source": [
    "import numpy as np\n",
    "import pandas as pd\n",
    "from collections import Counter\n",
    "import networkx as nx\n",
    "import matplotlib.pyplot as plt\n",
    "%matplotlib inline"
   ]
  },
  {
   "cell_type": "markdown",
   "metadata": {},
   "source": [
    "## I. Networks Basics"
   ]
  },
  {
   "cell_type": "markdown",
   "metadata": {},
   "source": [
    "### 1. Create & Manipulate Networks \n",
    "\n",
    "Let's start with simple undirected and unweighted networks. An example of such networks, where we don't have edge direction (in/out) or edge weight (indicating how strong a connection is), would be the Facebook network. If you are a friend of mine, I am a friend of yours, and the edge connecting us is either 1 (connected) or non-existent (not connected). We will generate more complex networks later on."
   ]
  },
  {
   "cell_type": "markdown",
   "metadata": {},
   "source": [
    "**Nodes**: can represent anything (images, webpage URL links, people, power stations, numbers, etc.)\n",
    "\n",
    "**Edges**: represent relationships between nodes"
   ]
  },
  {
   "cell_type": "code",
   "execution_count": null,
   "metadata": {},
   "outputs": [],
   "source": [
    "# create empty network\n",
    "G = nx.Graph()"
   ]
  },
  {
   "cell_type": "code",
   "execution_count": null,
   "metadata": {},
   "outputs": [],
   "source": [
    "# add one node with label '1'\n",
    "G.add_node('Mary')"
   ]
  },
  {
   "cell_type": "code",
   "execution_count": null,
   "metadata": {},
   "outputs": [],
   "source": [
    "# add nodes from a list of elements\n",
    "G.add_nodes_from(['Mary', 'Steven', 'Alice'])"
   ]
  },
  {
   "cell_type": "code",
   "execution_count": null,
   "metadata": {},
   "outputs": [],
   "source": [
    "# remove node\n",
    "G.remove_node(1)"
   ]
  },
  {
   "cell_type": "code",
   "execution_count": null,
   "metadata": {},
   "outputs": [],
   "source": [
    "# remove multiple nodes\n",
    "G.remove_nodes_from(['Mary', 'Steven'])"
   ]
  },
  {
   "cell_type": "code",
   "execution_count": null,
   "metadata": {},
   "outputs": [],
   "source": [
    "# view nodes in network G\n",
    "G.nodes"
   ]
  },
  {
   "cell_type": "code",
   "execution_count": null,
   "metadata": {},
   "outputs": [],
   "source": [
    "# add single edge - tuple of nodes (source, target)\n",
    "# this also adds nodes if they don't already exist\n",
    "G.add_edge('Mary','Steven')"
   ]
  },
  {
   "cell_type": "code",
   "execution_count": null,
   "metadata": {},
   "outputs": [],
   "source": [
    "# add multiple of edges (list of tuples)\n",
    "G.add_edges_from([('Mary', 'Steven') , ('Mary', 'Alice')])"
   ]
  },
  {
   "cell_type": "code",
   "execution_count": null,
   "metadata": {},
   "outputs": [],
   "source": [
    "# view edges in network G\n",
    "G.edges"
   ]
  },
  {
   "cell_type": "code",
   "execution_count": null,
   "metadata": {},
   "outputs": [],
   "source": [
    "# remove edge\n",
    "G.remove_edge('Mary','Alice')"
   ]
  },
  {
   "cell_type": "code",
   "execution_count": null,
   "metadata": {},
   "outputs": [],
   "source": [
    "# remove multiple edges (list of tuples)\n",
    "G.remove_edges_from([('Mary', 'Steven') , ('Mary', 'Alice')])"
   ]
  },
  {
   "cell_type": "code",
   "execution_count": null,
   "metadata": {},
   "outputs": [],
   "source": [
    "# get number of nodes in network G\n",
    "G.number_of_nodes()"
   ]
  },
  {
   "cell_type": "code",
   "execution_count": null,
   "metadata": {},
   "outputs": [],
   "source": [
    "# get number of edges in network G\n",
    "G.number_of_edges()"
   ]
  },
  {
   "cell_type": "code",
   "execution_count": null,
   "metadata": {},
   "outputs": [],
   "source": [
    "# get Alice's neighbors (retrieves a dictionary)\n",
    "dict_neighbors = G.neighbors('Alice')"
   ]
  },
  {
   "cell_type": "code",
   "execution_count": null,
   "metadata": {},
   "outputs": [],
   "source": [
    "# get Alice's number of neighbors (connections)\n",
    "G.degree('Alice')"
   ]
  },
  {
   "cell_type": "code",
   "execution_count": null,
   "metadata": {},
   "outputs": [],
   "source": [
    "# empty the network\n",
    "G.clear()"
   ]
  },
  {
   "cell_type": "markdown",
   "metadata": {},
   "source": [
    "**Load network from file.** You can read/write a graph in a file using common graph formats (edge lists, adjacency lists, GML, GraphML, pickle, LEDA, etc.)."
   ]
  },
  {
   "cell_type": "code",
   "execution_count": null,
   "metadata": {},
   "outputs": [],
   "source": [
    "# read edgelist\n",
    "G = nx.read_edgelist(\"test.edgelist\")\n",
    "\n",
    "# write edgelist\n",
    "nx.write_edgelist(G, \"test.edgelist\")"
   ]
  },
  {
   "cell_type": "markdown",
   "metadata": {},
   "source": [
    "### 2. Network Types "
   ]
  },
  {
   "cell_type": "markdown",
   "metadata": {},
   "source": [
    "#### a. Weighted Graphs\n",
    "\n",
    "**Edge weight.** Consider that the edge that you are adding should contain additional information, such as the strength of the connection. This would be important, for example, when analyzing communication networks to check friendship/connectivity strength. You want to capture how many times they exchanged e-mails, calls, text messages, to indicate the strength of the connection. For this you will assign weights to the edge, values that can be the number of communications, or the fraction of communications, normalized."
   ]
  },
  {
   "cell_type": "code",
   "execution_count": null,
   "metadata": {},
   "outputs": [],
   "source": [
    "# assign weight to edge\n",
    "G.add_edge('Mary','Steven', weight=5)"
   ]
  },
  {
   "cell_type": "code",
   "execution_count": null,
   "metadata": {},
   "outputs": [],
   "source": [
    "# access edge weight\n",
    "G['Mary']['Steven']"
   ]
  },
  {
   "cell_type": "code",
   "execution_count": null,
   "metadata": {},
   "outputs": [],
   "source": [
    "# change edge weight\n",
    "G['Mary']['Steven']['weight'] = 6"
   ]
  },
  {
   "cell_type": "markdown",
   "metadata": {},
   "source": [
    "#### b. Directed Graphs\n",
    "\n",
    "**Edge direction.**"
   ]
  },
  {
   "cell_type": "code",
   "execution_count": null,
   "metadata": {},
   "outputs": [],
   "source": [
    "dg = nx.DiGraph()"
   ]
  },
  {
   "cell_type": "code",
   "execution_count": null,
   "metadata": {},
   "outputs": [],
   "source": [
    "# you can create an undirected representation of network G\n",
    "nx.to_undirected(G)"
   ]
  },
  {
   "cell_type": "code",
   "execution_count": null,
   "metadata": {},
   "outputs": [],
   "source": [
    "# you can create a directed representation of network G\n",
    "nx.to_directed(G)"
   ]
  },
  {
   "cell_type": "markdown",
   "metadata": {},
   "source": [
    "#### c. Multigraphs\n",
    "\n",
    "Many algorithms are not well defined on such graphs. Therefore, you should convert such graphs rather to a standard graph in a way that makes the measurement well defined."
   ]
  },
  {
   "cell_type": "code",
   "execution_count": null,
   "metadata": {},
   "outputs": [],
   "source": [
    "# multigraphs can store multiple edges information between same two nodes that can have different properties\n",
    "MG = nx.MultiGraph()\n",
    "MG.add_weighted_edges_from([(1, 2, 3.0), (1, 2, 75), (2, 3, 5)])"
   ]
  },
  {
   "cell_type": "code",
   "execution_count": null,
   "metadata": {},
   "outputs": [],
   "source": [
    "# shows the edges with no weights\n",
    "MG.edges"
   ]
  },
  {
   "cell_type": "code",
   "execution_count": null,
   "metadata": {},
   "outputs": [],
   "source": [
    "# shows the weights of the edges as well\n",
    "MG.edges.data('weight', default=1)"
   ]
  },
  {
   "cell_type": "code",
   "execution_count": null,
   "metadata": {},
   "outputs": [],
   "source": [
    "# check the weight of an edge\n",
    "MG[1][2]"
   ]
  },
  {
   "cell_type": "markdown",
   "metadata": {},
   "source": [
    "### 3. Network Models\n",
    "\n",
    "There are a miriad of network models with different topological properties. Here we will try out some of the most useful ones (that frequently occur in real complex systems). \n",
    "\n",
    "For more network generation classes: https://networkx.github.io/documentation/networkx-1.10/reference/generators.html"
   ]
  },
  {
   "cell_type": "code",
   "execution_count": null,
   "metadata": {
    "slideshow": {
     "slide_type": "-"
    }
   },
   "outputs": [],
   "source": [
    "# Barabasi-Albert (scale-free) network \n",
    "ba = nx.barabasi_albert_graph(50, 3)"
   ]
  },
  {
   "cell_type": "code",
   "execution_count": null,
   "metadata": {},
   "outputs": [],
   "source": [
    "nx.draw_spectral(ba)"
   ]
  },
  {
   "cell_type": "code",
   "execution_count": null,
   "metadata": {},
   "outputs": [],
   "source": [
    "# Erdos-Renyi (random) network \n",
    "er = nx.erdos_renyi_graph(50, 0.1)"
   ]
  },
  {
   "cell_type": "code",
   "execution_count": null,
   "metadata": {},
   "outputs": [],
   "source": [
    "nx.draw_circular(er)"
   ]
  },
  {
   "cell_type": "code",
   "execution_count": null,
   "metadata": {},
   "outputs": [],
   "source": [
    "# Watts-Strogatz (small-world) network \n",
    "ws = nx.watts_strogatz_graph(50, 6, 0.2)"
   ]
  },
  {
   "cell_type": "code",
   "execution_count": null,
   "metadata": {},
   "outputs": [],
   "source": [
    "nx.draw_circular(ws)"
   ]
  },
  {
   "cell_type": "code",
   "execution_count": null,
   "metadata": {},
   "outputs": [],
   "source": [
    "# random geometric graph (RGG)\n",
    "rgg = nx.random_geometric_graph(200,0.125)"
   ]
  },
  {
   "cell_type": "code",
   "execution_count": null,
   "metadata": {},
   "outputs": [],
   "source": [
    "nx.draw(rgg)"
   ]
  },
  {
   "cell_type": "code",
   "execution_count": null,
   "metadata": {},
   "outputs": [],
   "source": [
    "# complete graph (every pair of nodes is connected by a unique edge)\n",
    "complete = nx.complete_graph(6)"
   ]
  },
  {
   "cell_type": "code",
   "execution_count": null,
   "metadata": {},
   "outputs": [],
   "source": [
    "nx.draw(complete)"
   ]
  },
  {
   "cell_type": "markdown",
   "metadata": {},
   "source": [
    "## II. Analysis of Structural Properties"
   ]
  },
  {
   "cell_type": "markdown",
   "metadata": {},
   "source": [
    "#### a. Node degree, network average degree, degree distribution"
   ]
  },
  {
   "cell_type": "code",
   "execution_count": null,
   "metadata": {},
   "outputs": [],
   "source": [
    "degrees = [deg for node, deg in nx.degree(G)]"
   ]
  },
  {
   "cell_type": "code",
   "execution_count": null,
   "metadata": {},
   "outputs": [],
   "source": [
    "# kmin - minimum degree\n",
    "kmin = np.min(degrees)\n",
    "\n",
    "# kmax - maximum degree\n",
    "kmax = np.max(degrees)\n",
    "\n",
    "# kavg - average degree of the network\n",
    "kavg = np.mean(degrees)"
   ]
  },
  {
   "cell_type": "markdown",
   "metadata": {},
   "source": [
    "**Degree distribution**: helps us understand connectivity trends in networks and how edges are distributed among nodes (does everyone have similar number of connections, or do we have hubs, nodes with significantly higher number of connections?)"
   ]
  },
  {
   "cell_type": "code",
   "execution_count": null,
   "metadata": {},
   "outputs": [],
   "source": [
    "def degree_distr(net):\n",
    "    degrees = dict(net.degree()) \n",
    "    hist = list(Counter(degrees.values()).items()) \n",
    "    hist.sort(key=lambda x:x[0])\n",
    "    hist = np.array(hist)\n",
    "    return hist"
   ]
  },
  {
   "cell_type": "markdown",
   "metadata": {},
   "source": [
    "#### b. Paths on Networks: average path length, shortest path, longest path"
   ]
  },
  {
   "cell_type": "code",
   "execution_count": null,
   "metadata": {},
   "outputs": [],
   "source": [
    "# find shortest path in directed & undirected network\n",
    "nx.shortest_path(G,’b’,’d’)\n",
    "nx.shortest_path(g,’b’,’d’, weighted=True)"
   ]
  },
  {
   "cell_type": "markdown",
   "metadata": {},
   "source": [
    "#### c. Clustering coefficient, triangles"
   ]
  },
  {
   "cell_type": "code",
   "execution_count": null,
   "metadata": {},
   "outputs": [],
   "source": [
    "# triangles\n",
    "nx.triangles(G)"
   ]
  },
  {
   "cell_type": "code",
   "execution_count": null,
   "metadata": {},
   "outputs": [],
   "source": [
    "# clustering coefficient of a node\n",
    "nx.clustering(G, node)"
   ]
  },
  {
   "cell_type": "code",
   "execution_count": null,
   "metadata": {},
   "outputs": [],
   "source": [
    "# clustering coefficient of all nodes (returns a dictionary)\n",
    "nx.clustering(G)"
   ]
  },
  {
   "cell_type": "code",
   "execution_count": null,
   "metadata": {},
   "outputs": [],
   "source": [
    "# clustering coefficient of the network\n",
    "cc = nx.clustering(G)\n",
    "avg_clust = sum(cc.values()) / len(cc)\n",
    "print(avg_clust)"
   ]
  },
  {
   "cell_type": "markdown",
   "metadata": {},
   "source": [
    "#### d. Centrality measures"
   ]
  },
  {
   "cell_type": "code",
   "execution_count": null,
   "metadata": {},
   "outputs": [],
   "source": [
    "# betweenness centrality of network\n",
    "nx.betweenness_centrality(G)"
   ]
  },
  {
   "cell_type": "code",
   "execution_count": null,
   "metadata": {},
   "outputs": [],
   "source": [
    "# closeness centrality of network\n",
    "nx.closeness_centrality(G)"
   ]
  },
  {
   "cell_type": "code",
   "execution_count": null,
   "metadata": {},
   "outputs": [],
   "source": [
    "# eigenvector centrality of network\n",
    "nx.eigenvector_centrality(G)"
   ]
  },
  {
   "cell_type": "code",
   "execution_count": null,
   "metadata": {},
   "outputs": [],
   "source": [
    "# degree centrality\n",
    "nx.degree_centrality(G)"
   ]
  },
  {
   "cell_type": "markdown",
   "metadata": {},
   "source": [
    "#### e. Components"
   ]
  },
  {
   "cell_type": "code",
   "execution_count": null,
   "metadata": {},
   "outputs": [],
   "source": [
    "# find number of connected components\n",
    "nx.number_connected_components(G)"
   ]
  },
  {
   "cell_type": "code",
   "execution_count": null,
   "metadata": {},
   "outputs": [],
   "source": [
    "# get the nodes in the same component as *n*\n",
    "nx.node_connected_component(G, \"Alice\")"
   ]
  },
  {
   "cell_type": "markdown",
   "metadata": {},
   "source": [
    "#### f. Assortativity\n",
    "\n",
    "* Pearson correlation coefficient [-1; 1]\n",
    "* social networks are highly assortative (homophily): high degree nodes connect to other high degree nodes\n",
    "* technological are disassortative: high degree nodes connect to low degree nodes"
   ]
  },
  {
   "cell_type": "code",
   "execution_count": null,
   "metadata": {},
   "outputs": [],
   "source": [
    "nx.degree_assortativity_coefficient(G)"
   ]
  },
  {
   "cell_type": "markdown",
   "metadata": {},
   "source": [
    "## III. Network Visualization\n",
    "\n",
    "* in Python: Matplotlib or Graphviz with pydot (import and export NetworkX graphs in Graphviz dot format using pydot)\n",
    "* Gephi\n",
    "* Graphviz\n",
    "* Neo4j\n",
    "* etc."
   ]
  },
  {
   "cell_type": "markdown",
   "metadata": {},
   "source": [
    "Basic drawing methods: \n",
    "* `nx.draw()`\n",
    "* `nx.random()`\n",
    "* `nx.draw_spectral()`\n",
    "* `nx.draw_circular()`"
   ]
  },
  {
   "cell_type": "code",
   "execution_count": null,
   "metadata": {},
   "outputs": [],
   "source": [
    "# simplest way to draw a graph\n",
    "nx.draw(G)"
   ]
  },
  {
   "cell_type": "markdown",
   "metadata": {},
   "source": [
    "## IV. Case Study: Real Network Analysis from Data\n",
    "using ***Graph Embedding with Self Clustering: Facebook data*** \n",
    "\n",
    "- data location: SNAP (Stanford Large Network Dataset Collection)\n",
    "- source: B. Rozemberczki, R. Davies, R. Sarkar and C. Sutton. GEMSEC: Graph Embedding with Self Clustering. 2018."
   ]
  },
  {
   "cell_type": "markdown",
   "metadata": {},
   "source": [
    "<img src=\"data.png\" alt=\"Data\" style=\"width: 300px;\"/>"
   ]
  },
  {
   "cell_type": "markdown",
   "metadata": {},
   "source": [
    "* nodes: pages\n",
    "* edges: mutual likes among them -> this means undirected & networks\n",
    "\n",
    "\n",
    "There are 8 different networks representing different categories. For our current analysis, we will analyze and compare 4 networks `Company`, `Artist`, `Politician` and `Public Figure`, however, you can play with all of them to get used to manipulating networks and computing structural property measures, and to gain insights about the data."
   ]
  },
  {
   "cell_type": "markdown",
   "metadata": {},
   "source": [
    "### 1. Load network from file"
   ]
  },
  {
   "cell_type": "code",
   "execution_count": null,
   "metadata": {},
   "outputs": [],
   "source": [
    "# load edgelists from data file\n",
    "co_net = nx.read_edgelist(\"facebook_clean_data/company_edges.csv\", delimiter=',')\n",
    "art_net = nx.read_edgelist(\"facebook_clean_data/artist_edges.csv\", delimiter=',')\n",
    "poli_net = nx.read_edgelist(\"facebook_clean_data/politician_edges.csv\", delimiter=',')\n",
    "pub_net = nx.read_edgelist(\"facebook_clean_data/public_figure_edges.csv\", delimiter=',')"
   ]
  },
  {
   "cell_type": "markdown",
   "metadata": {},
   "source": [
    "### 2. Analyze network"
   ]
  },
  {
   "cell_type": "code",
   "execution_count": null,
   "metadata": {},
   "outputs": [],
   "source": [
    "# check number of nodes and edges \n",
    "N = len(poli_net.nodes)\n",
    "print(N)\n",
    "\n",
    "E = len(poli_net.edges)\n",
    "print(E)"
   ]
  },
  {
   "cell_type": "markdown",
   "metadata": {},
   "source": [
    "Let's see what is on average the number of mutual 'Likes' (connections) each page (node) has. "
   ]
  },
  {
   "cell_type": "code",
   "execution_count": null,
   "metadata": {},
   "outputs": [],
   "source": [
    "# calculate average degree of politician pages\n",
    "degrees = [deg for node, deg in nx.degree(poli_net)]\n",
    "kavg = np.mean(degrees)\n",
    "print(\"The # of mutual likes politician pages have on average:\", kavg)\n",
    "\n",
    "# calculate average degree of artist pages\n",
    "degrees = [deg for node, deg in nx.degree(art_net)]\n",
    "kavg = np.mean(degrees)\n",
    "print(\"The # of mutual likes artist pages have on average:\", kavg)\n",
    "\n",
    "# calculate average degree of company pages\n",
    "degrees = [deg for node, deg in nx.degree(co_net)]\n",
    "kavg = np.mean(degrees)\n",
    "print(\"The # of mutual likes company pages have on average:\", kavg)\n",
    "\n",
    "# calculate average degree of public figure pages\n",
    "degrees = [deg for node, deg in nx.degree(pub_net)]\n",
    "kavg = np.mean(degrees)\n",
    "print(\"The # of mutual likes public figure pages have on average:\", kavg)"
   ]
  },
  {
   "cell_type": "markdown",
   "metadata": {},
   "source": [
    "What about the degree distribution in the networks?"
   ]
  },
  {
   "cell_type": "code",
   "execution_count": null,
   "metadata": {},
   "outputs": [],
   "source": [
    "hist_poli = degree_distr(poli_net)\n",
    "hist_art = degree_distr(art_net)\n",
    "hist_co = degree_distr(co_net)\n",
    "hist_pub = degree_distr(pub_net)\n",
    "\n",
    "plt.figure()\n",
    "plt.loglog(hist_poli.T[0],hist_poli.T[1],'ro-')\n",
    "plt.loglog(hist_art.T[0],hist_art.T[1],'ko-')\n",
    "plt.loglog(hist_co.T[0],hist_co.T[1],'go-')\n",
    "plt.loglog(hist_pub.T[0],hist_pub.T[1],'bo-')\n",
    "plt.legend(['Politician', 'Artist', 'Company', 'Public Figure'])\n",
    "plt.xlabel('Degree')\n",
    "plt.ylabel('Number of nodes')\n",
    "plt.title('Facebook Networks by Category')\n",
    "plt.savefig('fb_network_degree_distr.png')"
   ]
  },
  {
   "cell_type": "code",
   "execution_count": null,
   "metadata": {},
   "outputs": [],
   "source": [
    "# we can check assortativity\n",
    "nx.degree_assortativity_coefficient(pub_net)"
   ]
  },
  {
   "cell_type": "code",
   "execution_count": null,
   "metadata": {},
   "outputs": [],
   "source": [
    "# check clustering coefficient\n",
    "cc = nx.clustering(poli_net)\n",
    "avg_cc_poli = sum(cc.values()) / len(cc)\n",
    "print(\"Politician network clustering coefficient:\", avg_cc_poli)\n",
    "\n",
    "cc = nx.clustering(art_net)\n",
    "avg_cc_art = sum(cc.values()) / len(cc)\n",
    "print(\"Artist network clustering coefficient:\", avg_cc_art)\n",
    "\n",
    "cc = nx.clustering(co_net)\n",
    "avg_cc_co = sum(cc.values()) / len(cc)\n",
    "print(\"Company network clustering coefficient:\", avg_cc_co)\n",
    "\n",
    "cc = nx.clustering(pub_net)\n",
    "avg_cc_pub = sum(cc.values()) / len(cc)\n",
    "print(\"Public figure network clustering coefficient:\", avg_cc_pub)"
   ]
  },
  {
   "cell_type": "markdown",
   "metadata": {},
   "source": [
    "### 3. Visualize network\n",
    "What you've all been waiting for! \n",
    "\n",
    "Disclaimer: visualizations can be pretty and insightful, however for large networks they tend to be just pretty! Knowing how to compute network measures is the key!"
   ]
  },
  {
   "cell_type": "markdown",
   "metadata": {},
   "source": [
    "### 4. Takeaways\n",
    "\n",
    "* politician network has highest clustering coefficient (CC = 0.39) -> political views tend to cluster people more densely\n",
    "* public figure network is has the highest assortativity -> the only network that reflects human relationship type of connectivity\n",
    "* disassortativity seen in company, politician, artist networks may be indicative of competitiveness, desire not to like/promote other popular peers\n",
    "* lowest average degree found in company network\n",
    "* highest average degree seen in artist network\n",
    "* each network has similar degree distribution with heavy tail -> most nodes have small number of connections, while a few nodes (hubs) have significantly higher number of links\n",
    "* and many more insights with more detailed analyses -> it is your homework to explore more! :)"
   ]
  }
 ],
 "metadata": {
  "kernelspec": {
   "display_name": "Python 3",
   "language": "python",
   "name": "python3"
  },
  "language_info": {
   "codemirror_mode": {
    "name": "ipython",
    "version": 3
   },
   "file_extension": ".py",
   "mimetype": "text/x-python",
   "name": "python",
   "nbconvert_exporter": "python",
   "pygments_lexer": "ipython3",
   "version": "3.6.1"
  }
 },
 "nbformat": 4,
 "nbformat_minor": 2
}
